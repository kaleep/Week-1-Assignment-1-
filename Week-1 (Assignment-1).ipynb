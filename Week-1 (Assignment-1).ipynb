{
 "cells": [
  {
   "cell_type": "code",
   "execution_count": 1,
   "id": "fced2ae2-edab-452a-a00e-fc7f0e59d3a8",
   "metadata": {},
   "outputs": [],
   "source": [
    "# Question-1\n",
    "# String\n",
    "my_string = \"Hello, World!\"\n",
    "\n",
    "# List\n",
    "my_list = [1, 2, 3, 4, 5]\n",
    "\n",
    "# Tuple\n",
    "my_tuple = (6, 7, 8, 9, 10)\n",
    "\n",
    "# Float\n",
    "my_float = 3.14159"
   ]
  },
  {
   "cell_type": "markdown",
   "id": "15cef8f9-659e-4f9a-9b7e-ba965a92d667",
   "metadata": {},
   "source": [
    "Question-2\n",
    "\n",
    "var1 is a string (str).\n",
    "var2 is a string (str).\n",
    "var3 is a list (list).\n",
    "var4 is an integer (int)."
   ]
  },
  {
   "cell_type": "markdown",
   "id": "1f836460-e353-48f0-ad4e-5f8a283c7295",
   "metadata": {},
   "source": [
    "Question-3\n",
    "/ Operator: The / operator is used for division in Python. It performs floating-point division, which means it returns the quotient as a floating-point number.\n",
    "\n",
    "% Operator: The % operator is used for the modulo operation, which returns the remainder of the division between two numbers.\n",
    "\n",
    "// Operator: The // operator is used for floor division. It performs division and rounds the result down to the nearest integer (floor value).\n",
    "\n",
    "** Operator: The ** operator is used for exponentiation. It raises the first number to the power of the second number."
   ]
  },
  {
   "cell_type": "code",
   "execution_count": 2,
   "id": "d4533df1-c0b1-4fe2-a3a3-50710b933e98",
   "metadata": {},
   "outputs": [
    {
     "name": "stdout",
     "output_type": "stream",
     "text": [
      "3.3333333333333335\n",
      "1\n",
      "3\n",
      "8\n"
     ]
    }
   ],
   "source": [
    "a = 10\n",
    "b = 3\n",
    "result = a / b\n",
    "print(result)\n",
    "\n",
    "a = 10\n",
    "b = 3\n",
    "result = a % b\n",
    "print(result)\n",
    "\n",
    "a = 10\n",
    "b = 3\n",
    "result = a // b\n",
    "print(result)\n",
    "\n",
    "a = 2\n",
    "b = 3\n",
    "result = a ** b\n",
    "print(result)"
   ]
  },
  {
   "cell_type": "markdown",
   "id": "66c738bf-1540-4446-a424-4543369da3c0",
   "metadata": {},
   "source": [
    "4. Create a list of length 10 of your choice containing multiple types of data. Using for loop print the\n",
    "element and its data type.\n",
    "\n"
   ]
  },
  {
   "cell_type": "code",
   "execution_count": 3,
   "id": "f1df1400-6d10-426f-8332-c71049a07200",
   "metadata": {},
   "outputs": [
    {
     "name": "stdout",
     "output_type": "stream",
     "text": [
      "1 <class 'int'>\n",
      "Hello <class 'str'>\n",
      "3.14 <class 'float'>\n",
      "True <class 'bool'>\n",
      "[1, 2, 3] <class 'list'>\n",
      "{'name': 'John', 'age': 25} <class 'dict'>\n",
      "(4, 5, 6) <class 'tuple'>\n",
      "None <class 'NoneType'>\n",
      "OpenAI <class 'str'>\n",
      "False <class 'bool'>\n"
     ]
    }
   ],
   "source": [
    "#Questio-4\n",
    "\n",
    "my_list = [1, \"Hello\", 3.14, True, [1, 2, 3], {'name': 'John', 'age': 25}, (4, 5, 6), None, 'OpenAI', False]\n",
    "\n",
    "for element in my_list:\n",
    "    print(element, type(element))"
   ]
  },
  {
   "cell_type": "markdown",
   "id": "c79caa5a-6d34-44de-9470-f3fb455e6b07",
   "metadata": {},
   "source": [
    "5. Using a while loop, verify if the number A is purely divisible by number B and if so then how many\n",
    "times it can be divisible.\n",
    "\n"
   ]
  },
  {
   "cell_type": "code",
   "execution_count": 4,
   "id": "a4eee030-6939-4fa2-b3ff-8b6681f2465a",
   "metadata": {},
   "outputs": [
    {
     "name": "stdin",
     "output_type": "stream",
     "text": [
      "Enter the dividend (A):  25\n",
      "Enter the divisor (B):  5\n"
     ]
    },
    {
     "name": "stdout",
     "output_type": "stream",
     "text": [
      "A is divisible by B, and it can be divided 2 times.\n",
      "The remainder is 1.0.\n"
     ]
    }
   ],
   "source": [
    "#Question-5\n",
    "A = int(input(\"Enter the dividend (A): \"))\n",
    "B = int(input(\"Enter the divisor (B): \"))\n",
    "\n",
    "count = 0\n",
    "while A >= B and A % B == 0:\n",
    "    A /= B\n",
    "    count += 1\n",
    "\n",
    "if count > 0:\n",
    "    print(f\"A is divisible by B, and it can be divided {count} times.\")\n",
    "else:\n",
    "    print(\"A is not divisible by B.\")\n",
    "\n",
    "print(f\"The remainder is {A}.\")"
   ]
  },
  {
   "cell_type": "markdown",
   "id": "fd7b7c62-65d0-4d70-a690-12d7cbbd11b1",
   "metadata": {},
   "source": [
    "6. Create a list containing 25 int type data. Using for loop and if-else condition print if the element is\n",
    "divisible by 3 or not.\n",
    "\n"
   ]
  },
  {
   "cell_type": "code",
   "execution_count": 5,
   "id": "2c2f1eff-ef40-4610-af12-7dbf38fdddde",
   "metadata": {},
   "outputs": [
    {
     "name": "stdout",
     "output_type": "stream",
     "text": [
      "1 is not divisible by 3.\n",
      "2 is not divisible by 3.\n",
      "3 is divisible by 3.\n",
      "4 is not divisible by 3.\n",
      "5 is not divisible by 3.\n",
      "6 is divisible by 3.\n",
      "7 is not divisible by 3.\n",
      "8 is not divisible by 3.\n",
      "9 is divisible by 3.\n",
      "10 is not divisible by 3.\n",
      "11 is not divisible by 3.\n",
      "12 is divisible by 3.\n",
      "13 is not divisible by 3.\n",
      "14 is not divisible by 3.\n",
      "15 is divisible by 3.\n",
      "16 is not divisible by 3.\n",
      "17 is not divisible by 3.\n",
      "18 is divisible by 3.\n",
      "19 is not divisible by 3.\n",
      "20 is not divisible by 3.\n",
      "21 is divisible by 3.\n",
      "22 is not divisible by 3.\n",
      "23 is not divisible by 3.\n",
      "24 is divisible by 3.\n",
      "25 is not divisible by 3.\n"
     ]
    }
   ],
   "source": [
    "#Question-6\n",
    "my_list = list(range(1, 26))\n",
    "\n",
    "for element in my_list:\n",
    "    if element % 3 == 0:\n",
    "        print(f\"{element} is divisible by 3.\")\n",
    "    else:\n",
    "        print(f\"{element} is not divisible by 3.\")"
   ]
  },
  {
   "cell_type": "markdown",
   "id": "e9238eef-e47a-470e-b61c-3335218ccaea",
   "metadata": {},
   "source": [
    "7. What do you understand about mutable and immutable data types? Give examples for both showing\n",
    "this property.\n",
    "\n",
    "Immutable data types: Immutable objects cannot be modified once created. If you want to change the value of an immutable object, you need to create a new object with the updated value. Examples of immutable data types in Python include int, float, bool, str, tuple, and frozenset.\n",
    "\n",
    "Mutable data types: Mutable objects can be modified in-place after they are created. Changes made to a mutable object will affect its value without creating a new object. Examples of mutable data types in Python include list, dict, and set."
   ]
  },
  {
   "cell_type": "code",
   "execution_count": null,
   "id": "1d008f16-9b2d-418b-8cee-89cfcdca78ca",
   "metadata": {},
   "outputs": [],
   "source": []
  }
 ],
 "metadata": {
  "kernelspec": {
   "display_name": "Python 3 (ipykernel)",
   "language": "python",
   "name": "python3"
  },
  "language_info": {
   "codemirror_mode": {
    "name": "ipython",
    "version": 3
   },
   "file_extension": ".py",
   "mimetype": "text/x-python",
   "name": "python",
   "nbconvert_exporter": "python",
   "pygments_lexer": "ipython3",
   "version": "3.10.8"
  }
 },
 "nbformat": 4,
 "nbformat_minor": 5
}
